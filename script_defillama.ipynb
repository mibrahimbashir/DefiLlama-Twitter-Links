{
 "cells": [
  {
   "cell_type": "code",
   "execution_count": null,
   "metadata": {},
   "outputs": [],
   "source": [
    "print(\"hello\")"
   ]
  },
  {
   "cell_type": "code",
   "execution_count": 1,
   "metadata": {},
   "outputs": [],
   "source": [
    "from selenium import webdriver\n",
    "from selenium.webdriver.firefox.service import Service\n",
    "from selenium.webdriver.firefox.options import Options\n",
    "from selenium.webdriver.common.action_chains import ActionChains\n",
    "from selenium.webdriver.support import expected_conditions as EC\n",
    "from selenium.webdriver.support.ui import WebDriverWait\n",
    "from selenium.webdriver.common.by import By\n",
    "import pandas as pd\n",
    "import requests\n",
    "import random\n",
    "import time\n",
    "import os\n",
    "\n",
    "current_dir = os.getcwd()\n",
    "\n",
    "firefox_exe = f\"{current_dir}/geckodriver\"\n",
    "chrome_exe = f\"{current_dir}/chromedriver\""
   ]
  },
  {
   "cell_type": "code",
   "execution_count": 2,
   "metadata": {},
   "outputs": [],
   "source": [
    "# Initialize WebDriver\n",
    "service = Service(executable_path=firefox_exe)\n",
    "\n",
    "options = Options()\n",
    "options.set_preference(\"general.smoothScroll\", True)\n",
    "\n",
    "driver = webdriver.Firefox(service=service, options=options)\n",
    "driver.get(\"https://defillama.com/\")\n",
    "\n",
    "# Wait for page content to load\n",
    "driver.maximize_window()\n",
    "time.sleep(2)\n",
    "\n",
    "actions = ActionChains(driver)\n",
    "\n",
    "for _ in range(6):\n",
    "    actions.scroll_by_amount(0, 300).perform()\n",
    "    time.sleep(.5)"
   ]
  },
  {
   "cell_type": "code",
   "execution_count": 3,
   "metadata": {},
   "outputs": [
    {
     "name": "stdout",
     "output_type": "stream",
     "text": [
      "Total links found: 3591\n"
     ]
    }
   ],
   "source": [
    "links = set()\n",
    "\n",
    "while len(links) < 3590:\n",
    "    divs = driver.find_elements(By.CLASS_NAME, \"row\")\n",
    "\n",
    "    for div in divs:\n",
    "        link = div.find_element(By.TAG_NAME, \"a\").get_attribute(\"href\")\n",
    "        links.add(link)\n",
    "        \n",
    "    actions.scroll_by_amount(0, 500).perform()\n",
    "    time.sleep(.5)\n",
    "\n",
    "driver.quit()\n",
    "\n",
    "num_links = len(links)\n",
    "\n",
    "print(f\"Total links found: {num_links}\")"
   ]
  },
  {
   "cell_type": "code",
   "execution_count": 4,
   "metadata": {},
   "outputs": [],
   "source": [
    "with open (\"protocol_links.txt\", \"w\") as f:\n",
    "    for link in links:\n",
    "        f.write(f\"{link}\\n\")\n",
    "\n",
    "del links"
   ]
  },
  {
   "cell_type": "code",
   "execution_count": 5,
   "metadata": {},
   "outputs": [],
   "source": [
    "from selenium.webdriver.chrome.options import Options\n",
    "from selenium.webdriver.chrome.service import Service"
   ]
  },
  {
   "cell_type": "code",
   "execution_count": 6,
   "metadata": {},
   "outputs": [],
   "source": [
    "links = []\n",
    "\n",
    "with open(\"protocol_links.txt\", \"r\") as f:\n",
    "    for i in range(num_links):\n",
    "        links.append(f.readline().strip())"
   ]
  },
  {
   "cell_type": "code",
   "execution_count": 23,
   "metadata": {},
   "outputs": [],
   "source": [
    "response = requests.get(\n",
    "    url = 'https://headers.scrapeops.io/v1/user-agents',\n",
    "    params = {\n",
    "        'api_key': '',\n",
    "        'num_results': '96'\n",
    "    }\n",
    ")\n",
    "\n",
    "user_agent_list = response.json().get(\"result\", [\"Mozilla/5.0 (Windows NT 10.0; Win64; x64) AppleWebKit/537.36 (KHTML, like Gecko) Chrome/90.0.4430.85 Safari/537.36 Edg/90.0.818.46\"])"
   ]
  },
  {
   "cell_type": "code",
   "execution_count": 8,
   "metadata": {},
   "outputs": [],
   "source": [
    "df = pd.DataFrame({}, columns=[\"url\", \"protocol\", \"twitter_handle\"])"
   ]
  },
  {
   "cell_type": "code",
   "execution_count": 139,
   "metadata": {},
   "outputs": [],
   "source": [
    "def get_twitter_handle(chrome_executable, user_agent_list, link, wait_time=10):\n",
    "    protocol = \"missing\"\n",
    "    twitter_link = \"missing\"\n",
    "\n",
    "    service = Service(executable_path=chrome_executable)\n",
    "    options = Options()\n",
    "\n",
    "    options.add_argument('--headless=new')\n",
    "    options.add_argument(f\"user-agent={user_agent_list[random.randint(0, len(user_agent_list) -1)]}\")\n",
    "    options.add_argument('--blink-settings=imagesEnabled=false')\n",
    "\n",
    "    driver = webdriver.Chrome(service=service, options=options)\n",
    "\n",
    "    try:\n",
    "        driver.get(link)\n",
    "\n",
    "        driver.maximize_window()\n",
    "        \n",
    "        WebDriverWait(driver, wait_time).until(\n",
    "            EC.presence_of_element_located((By.CSS_SELECTOR, \".sc-289dd4cb-6.eksiYR\"))\n",
    "        )\n",
    "\n",
    "        WebDriverWait(driver, wait_time).until(\n",
    "            EC.presence_of_element_located((By.CSS_SELECTOR, \".sc-528311f8-1.hBsCiU\"))\n",
    "        )\n",
    "\n",
    "        anchor_elements = driver.find_element(By.CSS_SELECTOR, \".sc-289dd4cb-6.eksiYR\").find_elements(By.TAG_NAME, 'a')\n",
    "\n",
    "        for a in anchor_elements:\n",
    "            if a.find_element(By.TAG_NAME, \"span\").text == \"Twitter\":\n",
    "                twitter_link = a.get_attribute(\"href\")\n",
    "                break\n",
    "        \n",
    "        protocol = driver.find_element(By.CSS_SELECTOR, \".sc-528311f8-1.hBsCiU\").find_element(By.TAG_NAME, \"span\").text\n",
    "\n",
    "    except Exception as e:\n",
    "        try:\n",
    "            WebDriverWait(driver, wait_time).until(\n",
    "                EC.presence_of_element_located((By.CSS_SELECTOR, \".sc-528311f8-1.hBsCiU\"))\n",
    "            )\n",
    "\n",
    "            protocol = driver.find_element(By.CSS_SELECTOR, \".sc-528311f8-1.hBsCiU\").find_element(By.TAG_NAME, \"span\").text\n",
    "        except Exception as e:\n",
    "            pass\n",
    "\n",
    "    finally:\n",
    "        driver.quit()\n",
    "    \n",
    "    return protocol, twitter_link"
   ]
  },
  {
   "cell_type": "code",
   "execution_count": 42,
   "metadata": {},
   "outputs": [],
   "source": [
    "crawled = df.shape[0]\n",
    "\n",
    "for i, link in enumerate(links[crawled:], start=crawled):\n",
    "    protocol, twitter_link = get_twitter_handle(chrome_exe, user_agent_list, link)\n",
    "\n",
    "    df.loc[i] = [link, protocol, twitter_link]"
   ]
  },
  {
   "cell_type": "code",
   "execution_count": 142,
   "metadata": {},
   "outputs": [],
   "source": [
    "recheck_links_index = df[df[\"twitter_handle\"] == \"missing\"].index\n",
    "\n",
    "for i in recheck_links_index:\n",
    "    recheck_link = df.loc[i, \"url\"]\n",
    "\n",
    "    protocol, twitter_link = get_twitter_handle(chrome_exe, user_agent_list, recheck_link, wait_time=5)\n",
    "\n",
    "    df.loc[i] = [recheck_link, protocol, twitter_link]"
   ]
  },
  {
   "cell_type": "code",
   "execution_count": 138,
   "metadata": {},
   "outputs": [],
   "source": [
    "df.to_csv(\"defillama_twitter_handles.csv\", index=False)"
   ]
  },
  {
   "cell_type": "code",
   "execution_count": null,
   "metadata": {},
   "outputs": [],
   "source": []
  }
 ],
 "metadata": {
  "kernelspec": {
   "display_name": "venv",
   "language": "python",
   "name": "python3"
  },
  "language_info": {
   "codemirror_mode": {
    "name": "ipython",
    "version": 3
   },
   "file_extension": ".py",
   "mimetype": "text/x-python",
   "name": "python",
   "nbconvert_exporter": "python",
   "pygments_lexer": "ipython3",
   "version": "3.12.2"
  }
 },
 "nbformat": 4,
 "nbformat_minor": 2
}
